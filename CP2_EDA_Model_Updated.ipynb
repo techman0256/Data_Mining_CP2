{
 "cells": [
  {
   "cell_type": "markdown",
   "metadata": {
    "id": "qkwXix9tnnSI"
   },
   "source": [
    "Data Mining CP-02\n",
    "\n",
    "\n",
    "Team-14: Deep Miners\n",
    "\n",
    "Dataset: [Malware Detection in Network Traffic Data](https://www.kaggle.com/datasets/agungpambudi/network-malware-detection-connection-analysis/data)"
   ]
  },
  {
   "cell_type": "code",
   "execution_count": 1,
   "metadata": {
    "id": "rLpyN-oMWIhW",
    "ExecuteTime": {
     "end_time": "2023-11-10T06:03:36.732506200Z",
     "start_time": "2023-11-10T06:03:36.718504500Z"
    }
   },
   "outputs": [],
   "source": [
    "import pandas as pd\n",
    "import matplotlib.pyplot as plt\n",
    "import seaborn as sns"
   ]
  },
  {
   "cell_type": "code",
   "execution_count": 2,
   "metadata": {
    "colab": {
     "base_uri": "https://localhost:8080/"
    },
    "id": "_mbOid-FWIhY",
    "outputId": "36a1862f-70ec-472c-f128-0561f7d2d808",
    "ExecuteTime": {
     "end_time": "2023-11-10T06:03:40.485722400Z",
     "start_time": "2023-11-10T06:03:38.394438100Z"
    }
   },
   "outputs": [
    {
     "data": {
      "text/plain": "1008748"
     },
     "execution_count": 2,
     "metadata": {},
     "output_type": "execute_result"
    }
   ],
   "source": [
    "df = pd.read_csv(r\"C:\\Users\\sumuk\\OneDrive\\Desktop\\net_data\\CTU-IoT-Malware-Capture-1-1conn.log.labeled.csv\")\n",
    "len(df)"
   ]
  },
  {
   "cell_type": "code",
   "execution_count": 3,
   "metadata": {
    "id": "lacOGNqg9_DB",
    "ExecuteTime": {
     "end_time": "2023-11-10T06:03:45.469890900Z",
     "start_time": "2023-11-10T06:03:40.475719500Z"
    }
   },
   "outputs": [],
   "source": [
    "df = df['ts|uid|id.orig_h|id.orig_p|id.resp_h|id.resp_p|proto|service|duration|orig_bytes|resp_bytes|conn_state|local_orig|local_resp|missed_bytes|history|orig_pkts|orig_ip_bytes|resp_pkts|resp_ip_bytes|tunnel_parents|label|detailed-label'].str.split('|', expand=True)\n",
    "\n",
    "# Rename the columns if needed\n",
    "df.columns = [\"ts\", \"uid\", \"id.orig_h\", \"id.orig_p\", \"id.resp_h\", \"id.resp_p\", \"proto\", \"service\", \"duration\", \"orig_bytes\", \"resp_bytes\", \"conn_state\", \"local_orig\", \"local_resp\", \"missed_bytes\", \"history\", \"orig_pkts\", \"orig_ip_bytes\", \"resp_pkts\", \"resp_ip_bytes\", \"tunnel_parents\", \"label\", \"detailed-label\"]"
   ]
  },
  {
   "cell_type": "code",
   "execution_count": 4,
   "metadata": {
    "colab": {
     "base_uri": "https://localhost:8080/"
    },
    "id": "H1D1_fzwWIhZ",
    "outputId": "f8453bba-fad5-4764-e25f-21e60e7b38b1",
    "ExecuteTime": {
     "end_time": "2023-11-10T06:03:45.628344300Z",
     "start_time": "2023-11-10T06:03:45.472889500Z"
    }
   },
   "outputs": [
    {
     "data": {
      "text/plain": "Malicious    0.534795\nBenign       0.465205\nName: label, dtype: float64"
     },
     "execution_count": 4,
     "metadata": {},
     "output_type": "execute_result"
    }
   ],
   "source": [
    "df['label'].value_counts() / len(df)"
   ]
  },
  {
   "cell_type": "code",
   "execution_count": 5,
   "metadata": {
    "colab": {
     "base_uri": "https://localhost:8080/"
    },
    "id": "Q8QoVFZRWIha",
    "outputId": "117e5434-ef26-41d8-cbed-18c2a7078083",
    "ExecuteTime": {
     "end_time": "2023-11-10T06:03:46.844689Z",
     "start_time": "2023-11-10T06:03:46.624630300Z"
    }
   },
   "outputs": [
    {
     "name": "stdout",
     "output_type": "stream",
     "text": [
      "['Malicious' 'Benign']\n"
     ]
    }
   ],
   "source": [
    "print(df['label'].unique())"
   ]
  },
  {
   "cell_type": "markdown",
   "metadata": {
    "id": "-4n5CczBWtr2"
   },
   "source": [
    "## EDA"
   ]
  },
  {
   "cell_type": "code",
   "execution_count": 9,
   "outputs": [
    {
     "data": {
      "text/plain": "                  ts                 uid        id.orig_h id.orig_p  \\\n0  1525879831.015811  CUmrqr4svHuSXJy5z7  192.168.100.103     51524   \n1  1525879831.025055  CH98aB3s1kJeq6SFOc  192.168.100.103     56305   \n2  1525879831.045045   C3GBTkINvXNjVGtN5  192.168.100.103     41101   \n3  1525879832.016240   CDe43c1PtgynajGI6  192.168.100.103     60905   \n4  1525879832.024985  CJaDcG3MZzvf1YVYI4  192.168.100.103     44301   \n\n         id.resp_h id.resp_p proto service  duration orig_bytes  ...  \\\n0   65.127.233.163        23   tcp       -  2.999051          0  ...   \n1    63.150.16.171        23   tcp       -         -          -  ...   \n2     111.40.23.49        23   tcp       -         -          -  ...   \n3  131.174.215.147        23   tcp       -  2.998796          0  ...   \n4      91.42.47.63        23   tcp       -         -          -  ...   \n\n  local_resp missed_bytes history orig_pkts orig_ip_bytes resp_pkts  \\\n0          -            0       S         3           180         0   \n1          -            0       S         1            60         0   \n2          -            0       S         1            60         0   \n3          -            0       S         3           180         0   \n4          -            0       S         1            60         0   \n\n  resp_ip_bytes tunnel_parents      label             detailed-label  \n0             0              -  Malicious  PartOfAHorizontalPortScan  \n1             0              -  Malicious  PartOfAHorizontalPortScan  \n2             0              -  Malicious  PartOfAHorizontalPortScan  \n3             0              -  Malicious  PartOfAHorizontalPortScan  \n4             0              -  Malicious  PartOfAHorizontalPortScan  \n\n[5 rows x 23 columns]",
      "text/html": "<div>\n<style scoped>\n    .dataframe tbody tr th:only-of-type {\n        vertical-align: middle;\n    }\n\n    .dataframe tbody tr th {\n        vertical-align: top;\n    }\n\n    .dataframe thead th {\n        text-align: right;\n    }\n</style>\n<table border=\"1\" class=\"dataframe\">\n  <thead>\n    <tr style=\"text-align: right;\">\n      <th></th>\n      <th>ts</th>\n      <th>uid</th>\n      <th>id.orig_h</th>\n      <th>id.orig_p</th>\n      <th>id.resp_h</th>\n      <th>id.resp_p</th>\n      <th>proto</th>\n      <th>service</th>\n      <th>duration</th>\n      <th>orig_bytes</th>\n      <th>...</th>\n      <th>local_resp</th>\n      <th>missed_bytes</th>\n      <th>history</th>\n      <th>orig_pkts</th>\n      <th>orig_ip_bytes</th>\n      <th>resp_pkts</th>\n      <th>resp_ip_bytes</th>\n      <th>tunnel_parents</th>\n      <th>label</th>\n      <th>detailed-label</th>\n    </tr>\n  </thead>\n  <tbody>\n    <tr>\n      <th>0</th>\n      <td>1525879831.015811</td>\n      <td>CUmrqr4svHuSXJy5z7</td>\n      <td>192.168.100.103</td>\n      <td>51524</td>\n      <td>65.127.233.163</td>\n      <td>23</td>\n      <td>tcp</td>\n      <td>-</td>\n      <td>2.999051</td>\n      <td>0</td>\n      <td>...</td>\n      <td>-</td>\n      <td>0</td>\n      <td>S</td>\n      <td>3</td>\n      <td>180</td>\n      <td>0</td>\n      <td>0</td>\n      <td>-</td>\n      <td>Malicious</td>\n      <td>PartOfAHorizontalPortScan</td>\n    </tr>\n    <tr>\n      <th>1</th>\n      <td>1525879831.025055</td>\n      <td>CH98aB3s1kJeq6SFOc</td>\n      <td>192.168.100.103</td>\n      <td>56305</td>\n      <td>63.150.16.171</td>\n      <td>23</td>\n      <td>tcp</td>\n      <td>-</td>\n      <td>-</td>\n      <td>-</td>\n      <td>...</td>\n      <td>-</td>\n      <td>0</td>\n      <td>S</td>\n      <td>1</td>\n      <td>60</td>\n      <td>0</td>\n      <td>0</td>\n      <td>-</td>\n      <td>Malicious</td>\n      <td>PartOfAHorizontalPortScan</td>\n    </tr>\n    <tr>\n      <th>2</th>\n      <td>1525879831.045045</td>\n      <td>C3GBTkINvXNjVGtN5</td>\n      <td>192.168.100.103</td>\n      <td>41101</td>\n      <td>111.40.23.49</td>\n      <td>23</td>\n      <td>tcp</td>\n      <td>-</td>\n      <td>-</td>\n      <td>-</td>\n      <td>...</td>\n      <td>-</td>\n      <td>0</td>\n      <td>S</td>\n      <td>1</td>\n      <td>60</td>\n      <td>0</td>\n      <td>0</td>\n      <td>-</td>\n      <td>Malicious</td>\n      <td>PartOfAHorizontalPortScan</td>\n    </tr>\n    <tr>\n      <th>3</th>\n      <td>1525879832.016240</td>\n      <td>CDe43c1PtgynajGI6</td>\n      <td>192.168.100.103</td>\n      <td>60905</td>\n      <td>131.174.215.147</td>\n      <td>23</td>\n      <td>tcp</td>\n      <td>-</td>\n      <td>2.998796</td>\n      <td>0</td>\n      <td>...</td>\n      <td>-</td>\n      <td>0</td>\n      <td>S</td>\n      <td>3</td>\n      <td>180</td>\n      <td>0</td>\n      <td>0</td>\n      <td>-</td>\n      <td>Malicious</td>\n      <td>PartOfAHorizontalPortScan</td>\n    </tr>\n    <tr>\n      <th>4</th>\n      <td>1525879832.024985</td>\n      <td>CJaDcG3MZzvf1YVYI4</td>\n      <td>192.168.100.103</td>\n      <td>44301</td>\n      <td>91.42.47.63</td>\n      <td>23</td>\n      <td>tcp</td>\n      <td>-</td>\n      <td>-</td>\n      <td>-</td>\n      <td>...</td>\n      <td>-</td>\n      <td>0</td>\n      <td>S</td>\n      <td>1</td>\n      <td>60</td>\n      <td>0</td>\n      <td>0</td>\n      <td>-</td>\n      <td>Malicious</td>\n      <td>PartOfAHorizontalPortScan</td>\n    </tr>\n  </tbody>\n</table>\n<p>5 rows × 23 columns</p>\n</div>"
     },
     "execution_count": 9,
     "metadata": {},
     "output_type": "execute_result"
    }
   ],
   "source": [
    "df.head()"
   ],
   "metadata": {
    "collapsed": false,
    "ExecuteTime": {
     "end_time": "2023-11-10T06:05:59.316132700Z",
     "start_time": "2023-11-10T06:05:59.282085500Z"
    }
   }
  },
  {
   "cell_type": "code",
   "execution_count": 10,
   "outputs": [
    {
     "data": {
      "text/plain": "ts                object\nuid               object\nid.orig_h         object\nid.orig_p         object\nid.resp_h         object\nid.resp_p         object\nproto             object\nservice           object\nduration          object\norig_bytes        object\nresp_bytes        object\nconn_state        object\nlocal_orig        object\nlocal_resp        object\nmissed_bytes      object\nhistory           object\norig_pkts         object\norig_ip_bytes     object\nresp_pkts         object\nresp_ip_bytes     object\ntunnel_parents    object\nlabel             object\ndetailed-label    object\ndtype: object"
     },
     "execution_count": 10,
     "metadata": {},
     "output_type": "execute_result"
    }
   ],
   "source": [
    "df.dtypes"
   ],
   "metadata": {
    "collapsed": false,
    "ExecuteTime": {
     "end_time": "2023-11-10T06:06:02.125730600Z",
     "start_time": "2023-11-10T06:06:02.104745800Z"
    }
   }
  },
  {
   "cell_type": "code",
   "execution_count": 13,
   "metadata": {
    "id": "vGd2nriP-_au",
    "ExecuteTime": {
     "end_time": "2023-11-10T06:18:26.027281Z",
     "start_time": "2023-11-10T06:18:25.966778500Z"
    }
   },
   "outputs": [],
   "source": [
    "# Convert the 'orig_ip_bytes' column to integer\n",
    "df['orig_ip_bytes'] = df['orig_ip_bytes'].astype(float)\n",
    "df['resp_ip_bytes'] = df['resp_ip_bytes'].astype(float)\n",
    "df['orig_pkts'] = df['orig_pkts'].astype(float)\n",
    "df['resp_pkts'] = df['resp_pkts'].astype(float)"
   ]
  },
  {
   "cell_type": "code",
   "execution_count": 14,
   "metadata": {
    "colab": {
     "base_uri": "https://localhost:8080/",
     "height": 466
    },
    "id": "hNdf9Zb-Wxay",
    "outputId": "d4fcbc91-d1a0-4273-f5c6-37786b9a83bf",
    "ExecuteTime": {
     "end_time": "2023-11-10T06:18:33.188530100Z",
     "start_time": "2023-11-10T06:18:29.602387800Z"
    }
   },
   "outputs": [
    {
     "data": {
      "text/plain": "<AxesSubplot:xlabel='label', ylabel='count'>"
     },
     "execution_count": 14,
     "metadata": {},
     "output_type": "execute_result"
    },
    {
     "data": {
      "text/plain": "<Figure size 432x288 with 1 Axes>",
      "image/png": "[encoded data removed]"
     },
     "metadata": {},
     "output_type": "display_data"
    }
   ],
   "source": [
    "sns.countplot(data=df, x='label', hue='conn_state')"
   ]
  },
  {
   "cell_type": "code",
   "execution_count": 15,
   "metadata": {
    "colab": {
     "base_uri": "https://localhost:8080/",
     "height": 466
    },
    "id": "Rl3WAe9aW0P9",
    "outputId": "3afb0abf-f746-4ca9-cab3-e36ed8ad9905",
    "ExecuteTime": {
     "end_time": "2023-11-10T06:18:57.000756600Z",
     "start_time": "2023-11-10T06:18:54.578635600Z"
    }
   },
   "outputs": [
    {
     "data": {
      "text/plain": "<AxesSubplot:xlabel='label', ylabel='count'>"
     },
     "execution_count": 15,
     "metadata": {},
     "output_type": "execute_result"
    },
    {
     "data": {
      "text/plain": "<Figure size 432x288 with 1 Axes>",
      "image/png": "[encoded data removed]"
     },
     "metadata": {},
     "output_type": "display_data"
    }
   ],
   "source": [
    "sns.countplot(data=df, x='label', hue='proto')"
   ]
  },
  {
   "cell_type": "code",
   "execution_count": 16,
   "metadata": {
    "colab": {
     "base_uri": "https://localhost:8080/",
     "height": 523
    },
    "id": "F1l4DaE3W1Cm",
    "outputId": "db76abf9-d15f-4848-8bef-2cc6b66e9359",
    "ExecuteTime": {
     "end_time": "2023-11-10T06:19:13.034139500Z",
     "start_time": "2023-11-10T06:19:06.114397600Z"
    }
   },
   "outputs": [
    {
     "data": {
      "text/plain": "<seaborn.axisgrid.FacetGrid at 0x1b14258b7c0>"
     },
     "execution_count": 16,
     "metadata": {},
     "output_type": "execute_result"
    },
    {
     "data": {
      "text/plain": "<Figure size 360x360 with 1 Axes>",
      "image/png": "[encoded data removed]"
     },
     "metadata": {},
     "output_type": "display_data"
    }
   ],
   "source": [
    "sns.catplot(data=df, x='label', y='orig_ip_bytes')"
   ]
  },
  {
   "cell_type": "code",
   "execution_count": 17,
   "metadata": {
    "colab": {
     "base_uri": "https://localhost:8080/",
     "height": 524
    },
    "id": "put1XvkJW5LP",
    "outputId": "46800ab1-c923-4a50-ff0d-9cb1f1b22220",
    "ExecuteTime": {
     "end_time": "2023-11-10T06:20:48.864464800Z",
     "start_time": "2023-11-10T06:20:42.113145Z"
    }
   },
   "outputs": [
    {
     "data": {
      "text/plain": "<seaborn.axisgrid.FacetGrid at 0x1b1425986a0>"
     },
     "execution_count": 17,
     "metadata": {},
     "output_type": "execute_result"
    },
    {
     "data": {
      "text/plain": "<Figure size 360x360 with 1 Axes>",
      "image/png": "[encoded data removed]"
     },
     "metadata": {},
     "output_type": "display_data"
    }
   ],
   "source": [
    "sns.catplot(data=df, x='label', y='resp_ip_bytes')"
   ]
  },
  {
   "cell_type": "code",
   "execution_count": 20,
   "metadata": {
    "colab": {
     "base_uri": "https://localhost:8080/",
     "height": 523
    },
    "id": "v0aS9eHcW_L6",
    "outputId": "4a30d8ef-7eeb-4f10-e8ee-6f5180880f01",
    "ExecuteTime": {
     "end_time": "2023-11-10T06:22:26.021497100Z",
     "start_time": "2023-11-10T06:22:19.105972Z"
    }
   },
   "outputs": [
    {
     "data": {
      "text/plain": "<seaborn.axisgrid.FacetGrid at 0x1b190906e60>"
     },
     "execution_count": 20,
     "metadata": {},
     "output_type": "execute_result"
    },
    {
     "data": {
      "text/plain": "<Figure size 360x360 with 1 Axes>",
      "image/png": "[encoded data removed]"
     },
     "metadata": {},
     "output_type": "display_data"
    }
   ],
   "source": [
    "sns.catplot(data=df, x='label', y='resp_pkts')"
   ]
  },
  {
   "cell_type": "markdown",
   "metadata": {
    "id": "yGCU7rNL7I2Z"
   },
   "source": [
    "Model"
   ]
  },
  {
   "cell_type": "code",
   "execution_count": 21,
   "metadata": {
    "id": "lKeBM80B7Bmu",
    "ExecuteTime": {
     "end_time": "2023-11-10T06:22:37.067747600Z",
     "start_time": "2023-11-10T06:22:36.981154500Z"
    }
   },
   "outputs": [],
   "source": [
    "# keeping only relevent and correlated columns\n",
    "df = df[['proto', 'history', 'resp_ip_bytes', 'orig_pkts', 'resp_pkts', 'orig_ip_bytes', 'id.resp_p', 'label']]"
   ]
  },
  {
   "cell_type": "code",
   "execution_count": 22,
   "metadata": {
    "colab": {
     "base_uri": "https://localhost:8080/"
    },
    "id": "wTAkPQtH7QD3",
    "outputId": "61267fe4-c30f-426b-f16e-63d0c0055243",
    "ExecuteTime": {
     "end_time": "2023-11-10T06:22:38.721834500Z",
     "start_time": "2023-11-10T06:22:37.942460800Z"
    }
   },
   "outputs": [
    {
     "data": {
      "text/plain": "(105639, 8)"
     },
     "execution_count": 22,
     "metadata": {},
     "output_type": "execute_result"
    }
   ],
   "source": [
    "# remove duplicate rows\n",
    "df = df.drop_duplicates()\n",
    "df.shape"
   ]
  },
  {
   "cell_type": "code",
   "execution_count": 25,
   "metadata": {
    "colab": {
     "base_uri": "https://localhost:8080/"
    },
    "id": "JFB6HLtp7V4d",
    "outputId": "560de059-c869-4391-93d8-7c2da590fa0a",
    "ExecuteTime": {
     "end_time": "2023-11-10T06:33:22.514144800Z",
     "start_time": "2023-11-10T06:33:22.435601700Z"
    }
   },
   "outputs": [
    {
     "data": {
      "text/plain": "proto                3\nhistory            126\nresp_ip_bytes     1141\norig_pkts           54\nresp_pkts           69\norig_ip_bytes     1249\nid.resp_p        75844\nlabel                2\ndtype: int64"
     },
     "execution_count": 25,
     "metadata": {},
     "output_type": "execute_result"
    }
   ],
   "source": [
    "df.nunique()"
   ]
  },
  {
   "cell_type": "code",
   "execution_count": 26,
   "metadata": {
    "colab": {
     "base_uri": "https://localhost:8080/",
     "height": 206
    },
    "id": "Gbu9p6sl7YMT",
    "outputId": "e3350af8-b7de-403b-e8ba-fd50f5f86f84",
    "ExecuteTime": {
     "end_time": "2023-11-10T06:35:07.342755900Z",
     "start_time": "2023-11-10T06:35:07.300100700Z"
    }
   },
   "outputs": [
    {
     "data": {
      "text/plain": "   proto  history  resp_ip_bytes  orig_pkts  resp_pkts  orig_ip_bytes  \\\n0      1       22            0.0        3.0        0.0          180.0   \n1      1       22            0.0        1.0        0.0           60.0   \n6      1       22            0.0        3.0        0.0          180.0   \n7      1       22            0.0        1.0        0.0           60.0   \n9      1       22            0.0        1.0        0.0           60.0   \n\n  id.resp_p  label  \n0        23      1  \n1        23      1  \n6     49560      0  \n7     21288      0  \n9      8080      1  ",
      "text/html": "<div>\n<style scoped>\n    .dataframe tbody tr th:only-of-type {\n        vertical-align: middle;\n    }\n\n    .dataframe tbody tr th {\n        vertical-align: top;\n    }\n\n    .dataframe thead th {\n        text-align: right;\n    }\n</style>\n<table border=\"1\" class=\"dataframe\">\n  <thead>\n    <tr style=\"text-align: right;\">\n      <th></th>\n      <th>proto</th>\n      <th>history</th>\n      <th>resp_ip_bytes</th>\n      <th>orig_pkts</th>\n      <th>resp_pkts</th>\n      <th>orig_ip_bytes</th>\n      <th>id.resp_p</th>\n      <th>label</th>\n    </tr>\n  </thead>\n  <tbody>\n    <tr>\n      <th>0</th>\n      <td>1</td>\n      <td>22</td>\n      <td>0.0</td>\n      <td>3.0</td>\n      <td>0.0</td>\n      <td>180.0</td>\n      <td>23</td>\n      <td>1</td>\n    </tr>\n    <tr>\n      <th>1</th>\n      <td>1</td>\n      <td>22</td>\n      <td>0.0</td>\n      <td>1.0</td>\n      <td>0.0</td>\n      <td>60.0</td>\n      <td>23</td>\n      <td>1</td>\n    </tr>\n    <tr>\n      <th>6</th>\n      <td>1</td>\n      <td>22</td>\n      <td>0.0</td>\n      <td>3.0</td>\n      <td>0.0</td>\n      <td>180.0</td>\n      <td>49560</td>\n      <td>0</td>\n    </tr>\n    <tr>\n      <th>7</th>\n      <td>1</td>\n      <td>22</td>\n      <td>0.0</td>\n      <td>1.0</td>\n      <td>0.0</td>\n      <td>60.0</td>\n      <td>21288</td>\n      <td>0</td>\n    </tr>\n    <tr>\n      <th>9</th>\n      <td>1</td>\n      <td>22</td>\n      <td>0.0</td>\n      <td>1.0</td>\n      <td>0.0</td>\n      <td>60.0</td>\n      <td>8080</td>\n      <td>1</td>\n    </tr>\n  </tbody>\n</table>\n</div>"
     },
     "execution_count": 26,
     "metadata": {},
     "output_type": "execute_result"
    }
   ],
   "source": [
    "# perform label encoding\n",
    "from sklearn.preprocessing import LabelEncoder\n",
    "\n",
    "le = LabelEncoder()\n",
    "df['proto'] = le.fit_transform(df['proto'])\n",
    "df['history'] = le.fit_transform(df['history'])\n",
    "df['label'] = le.fit_transform(df['label'])\n",
    "df.head()"
   ]
  },
  {
   "cell_type": "code",
   "execution_count": 27,
   "metadata": {
    "colab": {
     "base_uri": "https://localhost:8080/"
    },
    "id": "XD3bJBDf7bwB",
    "outputId": "cb486c63-9d9c-4064-f427-212e90a85168",
    "ExecuteTime": {
     "end_time": "2023-11-10T06:35:13.675023500Z",
     "start_time": "2023-11-10T06:35:13.662020400Z"
    }
   },
   "outputs": [
    {
     "data": {
      "text/plain": "proto              int64\nhistory            int64\nresp_ip_bytes    float64\norig_pkts        float64\nresp_pkts        float64\norig_ip_bytes    float64\nid.resp_p         object\nlabel              int64\ndtype: object"
     },
     "execution_count": 27,
     "metadata": {},
     "output_type": "execute_result"
    }
   ],
   "source": [
    "df.dtypes"
   ]
  },
  {
   "cell_type": "markdown",
   "metadata": {
    "id": "wdsmmxXvoBjY"
   },
   "source": [
    "Trained an SVM Model, and performed hyperparameter tuning to improve the performance of the model."
   ]
  },
  {
   "cell_type": "code",
   "execution_count": 28,
   "metadata": {
    "colab": {
     "base_uri": "https://localhost:8080/"
    },
    "id": "J1lMfd8A7jAW",
    "outputId": "8fc42ae8-97fd-4572-c10b-fcaba7694fc6",
    "ExecuteTime": {
     "end_time": "2023-11-10T06:45:03.880424300Z",
     "start_time": "2023-11-10T06:43:57.771270900Z"
    }
   },
   "outputs": [
    {
     "name": "stdout",
     "output_type": "stream",
     "text": [
      "[[20504     0]\n",
      " [   98   526]]\n",
      "              precision    recall  f1-score   support\n",
      "\n",
      "           0       1.00      1.00      1.00     20504\n",
      "           1       1.00      0.84      0.91       624\n",
      "\n",
      "    accuracy                           1.00     21128\n",
      "   macro avg       1.00      0.92      0.96     21128\n",
      "weighted avg       1.00      1.00      1.00     21128\n"
     ]
    }
   ],
   "source": [
    "# train model user 'label' as target with use of SVM\n",
    "from sklearn.model_selection import train_test_split\n",
    "\n",
    "X = df.drop('label', axis=1)\n",
    "y = df['label']\n",
    "\n",
    "X_train, X_test, y_train, y_test = train_test_split(X, y, test_size=0.2)\n",
    "\n",
    "from sklearn.svm import SVC\n",
    "\n",
    "model = SVC(C=0.5)\n",
    "model.fit(X_train, y_train)\n",
    "\n",
    "# evaluate model\n",
    "from sklearn.metrics import classification_report, confusion_matrix\n",
    "\n",
    "y_pred = model.predict(X_test)\n",
    "\n",
    "print(confusion_matrix(y_test, y_pred))\n",
    "print(classification_report(y_test, y_pred))"
   ]
  },
  {
   "cell_type": "code",
   "execution_count": 29,
   "metadata": {
    "colab": {
     "base_uri": "https://localhost:8080/"
    },
    "id": "6HIJui4VAecQ",
    "outputId": "9110ca7b-127b-4836-b9f2-f97cbc71c181",
    "ExecuteTime": {
     "end_time": "2023-11-10T06:46:21.117284200Z",
     "start_time": "2023-11-10T06:46:03.410355500Z"
    }
   },
   "outputs": [
    {
     "name": "stdout",
     "output_type": "stream",
     "text": [
      "[[20504     0]\n",
      " [  105   519]]\n",
      "              precision    recall  f1-score   support\n",
      "\n",
      "           0       0.99      1.00      1.00     20504\n",
      "           1       1.00      0.83      0.91       624\n",
      "\n",
      "    accuracy                           1.00     21128\n",
      "   macro avg       1.00      0.92      0.95     21128\n",
      "weighted avg       1.00      1.00      0.99     21128\n"
     ]
    }
   ],
   "source": [
    "model = SVC(C=0.3)\n",
    "model.fit(X_train, y_train)\n",
    "\n",
    "# evaluate model\n",
    "y_pred = model.predict(X_test)\n",
    "\n",
    "print(confusion_matrix(y_test, y_pred))\n",
    "print(classification_report(y_test, y_pred))"
   ]
  },
  {
   "cell_type": "code",
   "execution_count": 30,
   "metadata": {
    "colab": {
     "base_uri": "https://localhost:8080/"
    },
    "id": "K-7J0J73Arkr",
    "outputId": "fd9548f7-e84c-4fcb-834b-154e485bc87e",
    "ExecuteTime": {
     "end_time": "2023-11-10T06:46:38.952221300Z",
     "start_time": "2023-11-10T06:46:27.195931500Z"
    }
   },
   "outputs": [
    {
     "name": "stdout",
     "output_type": "stream",
     "text": [
      "[[20504     0]\n",
      " [   95   529]]\n",
      "              precision    recall  f1-score   support\n",
      "\n",
      "           0       1.00      1.00      1.00     20504\n",
      "           1       1.00      0.85      0.92       624\n",
      "\n",
      "    accuracy                           1.00     21128\n",
      "   macro avg       1.00      0.92      0.96     21128\n",
      "weighted avg       1.00      1.00      1.00     21128\n"
     ]
    }
   ],
   "source": [
    "model = SVC()\n",
    "model.fit(X_train, y_train)\n",
    "\n",
    "# evaluate model\n",
    "y_pred = model.predict(X_test)\n",
    "\n",
    "print(confusion_matrix(y_test, y_pred))\n",
    "print(classification_report(y_test, y_pred))"
   ]
  },
  {
   "cell_type": "markdown",
   "metadata": {
    "id": "1cqwpj_-oN-2"
   },
   "source": [
    "Trained a KNN Model and obtained a better recall than the SVM Model."
   ]
  },
  {
   "cell_type": "code",
   "execution_count": 31,
   "metadata": {
    "colab": {
     "base_uri": "https://localhost:8080/"
    },
    "id": "q8fgOxYz7js_",
    "outputId": "3719821e-41f4-4aa7-bd18-f46fac766625",
    "ExecuteTime": {
     "end_time": "2023-11-10T06:53:34.028373600Z",
     "start_time": "2023-11-10T06:53:32.883897200Z"
    }
   },
   "outputs": [
    {
     "name": "stdout",
     "output_type": "stream",
     "text": [
      "[[20503     1]\n",
      " [   11   613]]\n",
      "              precision    recall  f1-score   support\n",
      "\n",
      "           0       1.00      1.00      1.00     20504\n",
      "           1       1.00      0.98      0.99       624\n",
      "\n",
      "    accuracy                           1.00     21128\n",
      "   macro avg       1.00      0.99      1.00     21128\n",
      "weighted avg       1.00      1.00      1.00     21128\n"
     ]
    }
   ],
   "source": [
    "# now train a model using knn\n",
    "from sklearn.neighbors import KNeighborsClassifier\n",
    "\n",
    "model = KNeighborsClassifier(n_neighbors=10)\n",
    "model.fit(X_train, y_train)\n",
    "\n",
    "# evaluate model\n",
    "y_pred = model.predict(X_test)\n",
    "\n",
    "print(confusion_matrix(y_test, y_pred))\n",
    "print(classification_report(y_test, y_pred))"
   ]
  },
  {
   "cell_type": "markdown",
   "metadata": {
    "id": "hNtTu6TO_fmD"
   },
   "source": [
    "SVM gives more false negative, hence it is a problem for our dataset. KNN gives less false negative which is better.\n",
    "\n",
    "Because our positive label is Malicious data."
   ]
  },
  {
   "cell_type": "markdown",
   "metadata": {},
   "source": [
    "## Hyperparameter Tuning and Grid Search"
   ]
  },
  {
   "cell_type": "markdown",
   "metadata": {},
   "source": [
    "Now, we will implement hyperparameter tuning for our KNN model using GridSearchCV."
   ]
  },
  {
   "cell_type": "code",
   "execution_count": 32,
   "metadata": {
    "ExecuteTime": {
     "end_time": "2023-11-10T06:54:37.379144200Z",
     "start_time": "2023-11-10T06:53:48.171138100Z"
    }
   },
   "outputs": [
    {
     "name": "stdout",
     "output_type": "stream",
     "text": [
      "Fitting 5 folds for each of 20 candidates, totalling 100 fits\n"
     ]
    },
    {
     "data": {
      "text/plain": "GridSearchCV(cv=5, estimator=KNeighborsClassifier(),\n             param_grid={'metric': ['euclidean', 'manhattan'],\n                         'n_neighbors': [3, 5, 10, 15, 20],\n                         'weights': ['uniform', 'distance']},\n             scoring='recall', verbose=1)",
      "text/html": "<style>#sk-container-id-1 {color: black;background-color: white;}#sk-container-id-1 pre{padding: 0;}#sk-container-id-1 div.sk-toggleable {background-color: white;}#sk-container-id-1 label.sk-toggleable__label {cursor: pointer;display: block;width: 100%;margin-bottom: 0;padding: 0.3em;box-sizing: border-box;text-align: center;}#sk-container-id-1 label.sk-toggleable__label-arrow:before {content: \"▸\";float: left;margin-right: 0.25em;color: #696969;}#sk-container-id-1 label.sk-toggleable__label-arrow:hover:before {color: black;}#sk-container-id-1 div.sk-estimator:hover label.sk-toggleable__label-arrow:before {color: black;}#sk-container-id-1 div.sk-toggleable__content {max-height: 0;max-width: 0;overflow: hidden;text-align: left;background-color: #f0f8ff;}#sk-container-id-1 div.sk-toggleable__content pre {margin: 0.2em;color: black;border-radius: 0.25em;background-color: #f0f8ff;}#sk-container-id-1 input.sk-toggleable__control:checked~div.sk-toggleable__content {max-height: 200px;max-width: 100%;overflow: auto;}#sk-container-id-1 input.sk-toggleable__control:checked~label.sk-toggleable__label-arrow:before {content: \"▾\";}#sk-container-id-1 div.sk-estimator input.sk-toggleable__control:checked~label.sk-toggleable__label {background-color: #d4ebff;}#sk-container-id-1 div.sk-label input.sk-toggleable__control:checked~label.sk-toggleable__label {background-color: #d4ebff;}#sk-container-id-1 input.sk-hidden--visually {border: 0;clip: rect(1px 1px 1px 1px);clip: rect(1px, 1px, 1px, 1px);height: 1px;margin: -1px;overflow: hidden;padding: 0;position: absolute;width: 1px;}#sk-container-id-1 div.sk-estimator {font-family: monospace;background-color: #f0f8ff;border: 1px dotted black;border-radius: 0.25em;box-sizing: border-box;margin-bottom: 0.5em;}#sk-container-id-1 div.sk-estimator:hover {background-color: #d4ebff;}#sk-container-id-1 div.sk-parallel-item::after {content: \"\";width: 100%;border-bottom: 1px solid gray;flex-grow: 1;}#sk-container-id-1 div.sk-label:hover label.sk-toggleable__label {background-color: #d4ebff;}#sk-container-id-1 div.sk-serial::before {content: \"\";position: absolute;border-left: 1px solid gray;box-sizing: border-box;top: 0;bottom: 0;left: 50%;z-index: 0;}#sk-container-id-1 div.sk-serial {display: flex;flex-direction: column;align-items: center;background-color: white;padding-right: 0.2em;padding-left: 0.2em;position: relative;}#sk-container-id-1 div.sk-item {position: relative;z-index: 1;}#sk-container-id-1 div.sk-parallel {display: flex;align-items: stretch;justify-content: center;background-color: white;position: relative;}#sk-container-id-1 div.sk-item::before, #sk-container-id-1 div.sk-parallel-item::before {content: \"\";position: absolute;border-left: 1px solid gray;box-sizing: border-box;top: 0;bottom: 0;left: 50%;z-index: -1;}#sk-container-id-1 div.sk-parallel-item {display: flex;flex-direction: column;z-index: 1;position: relative;background-color: white;}#sk-container-id-1 div.sk-parallel-item:first-child::after {align-self: flex-end;width: 50%;}#sk-container-id-1 div.sk-parallel-item:last-child::after {align-self: flex-start;width: 50%;}#sk-container-id-1 div.sk-parallel-item:only-child::after {width: 0;}#sk-container-id-1 div.sk-dashed-wrapped {border: 1px dashed gray;margin: 0 0.4em 0.5em 0.4em;box-sizing: border-box;padding-bottom: 0.4em;background-color: white;}#sk-container-id-1 div.sk-label label {font-family: monospace;font-weight: bold;display: inline-block;line-height: 1.2em;}#sk-container-id-1 div.sk-label-container {text-align: center;}#sk-container-id-1 div.sk-container {/* jupyter's `normalize.less` sets `[hidden] { display: none; }` but bootstrap.min.css set `[hidden] { display: none !important; }` so we also need the `!important` here to be able to override the default hidden behavior on the sphinx rendered scikit-learn.org. See: https://github.com/scikit-learn/scikit-learn/issues/21755 */display: inline-block !important;position: relative;}#sk-container-id-1 div.sk-text-repr-fallback {display: none;}</style><div id=\"sk-container-id-1\" class=\"sk-top-container\"><div class=\"sk-text-repr-fallback\"><pre>GridSearchCV(cv=5, estimator=KNeighborsClassifier(),\n             param_grid={&#x27;metric&#x27;: [&#x27;euclidean&#x27;, &#x27;manhattan&#x27;],\n                         &#x27;n_neighbors&#x27;: [3, 5, 10, 15, 20],\n                         &#x27;weights&#x27;: [&#x27;uniform&#x27;, &#x27;distance&#x27;]},\n             scoring=&#x27;recall&#x27;, verbose=1)</pre><b>In a Jupyter environment, please rerun this cell to show the HTML representation or trust the notebook. <br />On GitHub, the HTML representation is unable to render, please try loading this page with nbviewer.org.</b></div><div class=\"sk-container\" hidden><div class=\"sk-item sk-dashed-wrapped\"><div class=\"sk-label-container\"><div class=\"sk-label sk-toggleable\"><input class=\"sk-toggleable__control sk-hidden--visually\" id=\"sk-estimator-id-1\" type=\"checkbox\" ><label for=\"sk-estimator-id-1\" class=\"sk-toggleable__label sk-toggleable__label-arrow\">GridSearchCV</label><div class=\"sk-toggleable__content\"><pre>GridSearchCV(cv=5, estimator=KNeighborsClassifier(),\n             param_grid={&#x27;metric&#x27;: [&#x27;euclidean&#x27;, &#x27;manhattan&#x27;],\n                         &#x27;n_neighbors&#x27;: [3, 5, 10, 15, 20],\n                         &#x27;weights&#x27;: [&#x27;uniform&#x27;, &#x27;distance&#x27;]},\n             scoring=&#x27;recall&#x27;, verbose=1)</pre></div></div></div><div class=\"sk-parallel\"><div class=\"sk-parallel-item\"><div class=\"sk-item\"><div class=\"sk-label-container\"><div class=\"sk-label sk-toggleable\"><input class=\"sk-toggleable__control sk-hidden--visually\" id=\"sk-estimator-id-2\" type=\"checkbox\" ><label for=\"sk-estimator-id-2\" class=\"sk-toggleable__label sk-toggleable__label-arrow\">estimator: KNeighborsClassifier</label><div class=\"sk-toggleable__content\"><pre>KNeighborsClassifier()</pre></div></div></div><div class=\"sk-serial\"><div class=\"sk-item\"><div class=\"sk-estimator sk-toggleable\"><input class=\"sk-toggleable__control sk-hidden--visually\" id=\"sk-estimator-id-3\" type=\"checkbox\" ><label for=\"sk-estimator-id-3\" class=\"sk-toggleable__label sk-toggleable__label-arrow\">KNeighborsClassifier</label><div class=\"sk-toggleable__content\"><pre>KNeighborsClassifier()</pre></div></div></div></div></div></div></div></div></div></div>"
     },
     "execution_count": 32,
     "metadata": {},
     "output_type": "execute_result"
    }
   ],
   "source": [
    "from sklearn.model_selection import GridSearchCV\n",
    "\n",
    "# Define the parameter grid for KNN\n",
    "param_grid = {\n",
    "    'n_neighbors': [3, 5, 10, 15, 20],\n",
    "    'weights': ['uniform', 'distance'],\n",
    "    'metric': ['euclidean', 'manhattan']\n",
    "}\n",
    "\n",
    "# Initialize a KNN classifier\n",
    "knn = KNeighborsClassifier()\n",
    "\n",
    "# Initialize the GridSearchCV object\n",
    "grid_search = GridSearchCV(estimator=knn, param_grid=param_grid, cv=5, verbose=1, scoring='recall')\n",
    "\n",
    "# Fit the grid search to the data\n",
    "grid_search.fit(X_train, y_train)\n"
   ]
  },
  {
   "cell_type": "markdown",
   "metadata": {},
   "source": [
    "After the grid search has been fitted to the training data, we can inspect the best parameters and the performance of the best model."
   ]
  },
  {
   "cell_type": "code",
   "execution_count": 33,
   "metadata": {
    "ExecuteTime": {
     "end_time": "2023-11-10T06:54:56.398914800Z",
     "start_time": "2023-11-10T06:54:56.129775400Z"
    }
   },
   "outputs": [
    {
     "name": "stdout",
     "output_type": "stream",
     "text": [
      "Best parameters found:  {'metric': 'euclidean', 'n_neighbors': 3, 'weights': 'distance'}\n",
      "Confusion Matrix of the best estimator: [[20497     7]\n",
      " [    4   620]]\n",
      "\n",
      "Classification Report of the best estimator:\n",
      "               precision    recall  f1-score   support\n",
      "\n",
      "           0       1.00      1.00      1.00     20504\n",
      "           1       0.99      0.99      0.99       624\n",
      "\n",
      "    accuracy                           1.00     21128\n",
      "   macro avg       0.99      1.00      1.00     21128\n",
      "weighted avg       1.00      1.00      1.00     21128\n"
     ]
    }
   ],
   "source": [
    "\n",
    "# Get the best parameters\n",
    "best_params = grid_search.best_params_\n",
    "print(\"Best parameters found: \", best_params)\n",
    "\n",
    "# Get the best estimator\n",
    "best_knn = grid_search.best_estimator_\n",
    "\n",
    "# Predictions with the best estimator\n",
    "y_pred_best = best_knn.predict(X_test)\n",
    "\n",
    "# Evaluation\n",
    "best_conf_matrix = confusion_matrix(y_test, y_pred_best)\n",
    "best_class_report = classification_report(y_test, y_pred_best)\n",
    "\n",
    "print(\"Confusion Matrix of the best estimator:\", best_conf_matrix)\n",
    "print(\"\\nClassification Report of the best estimator:\\n\", best_class_report)\n"
   ]
  }
 ],
 "metadata": {
  "colab": {
   "provenance": []
  },
  "kernelspec": {
   "display_name": "Python 3",
   "language": "python",
   "name": "python3"
  },
  "language_info": {
   "codemirror_mode": {
    "name": "ipython",
    "version": 3
   },
   "file_extension": ".py",
   "mimetype": "text/x-python",
   "name": "python",
   "nbconvert_exporter": "python",
   "pygments_lexer": "ipython3",
   "version": "3.11.6"
  }
 },
 "nbformat": 4,
 "nbformat_minor": 0
}
